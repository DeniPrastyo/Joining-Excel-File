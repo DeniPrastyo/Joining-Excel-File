{
  "cells": [
    {
      "cell_type": "code",
      "execution_count": null,
      "metadata": {
        "colab": {
          "background_save": true
        },
        "id": "R19GafMoR5zj",
        "outputId": "7b5a90cf-1d74-4029-de69-b74fbfbe995e"
      },
      "outputs": [
        {
          "name": "stdout",
          "output_type": "stream",
          "text": [
            "Mounted at /content/gdrive\n"
          ]
        }
      ],
      "source": [
        "import pandas as pd\n",
        "import requests\n",
        "import glob\n",
        "\n",
        "from google.colab import drive\n",
        "drive.mount('/content/gdrive')"
      ]
    },
    {
      "cell_type": "code",
      "execution_count": null,
      "metadata": {
        "colab": {
          "background_save": true
        },
        "id": "Hmm91l8Wxrmf"
      },
      "outputs": [],
      "source": [
        "all_data = pd.DataFrame()\n",
        "for f in glob.glob(\"/content/gdrive/My Drive/Google Collaboration/Cycle Time Analysis/Join Data Cycle Time/*.xlsx\"):\n",
        "    df = pd.read_excel(f,skiprows = 9,usecols = \"E:W\" )\n",
        "    all_data = all_data.append(df,ignore_index=False)"
      ]
    },
    {
      "cell_type": "code",
      "execution_count": null,
      "metadata": {
        "colab": {
          "background_save": true
        },
        "id": "pLyYM4wpZvVd"
      },
      "outputs": [],
      "source": [
        "all_data = all_data.drop(columns = ['Unnamed: 8','Unnamed: 10','Unnamed: 12','Unnamed: 14'])\n",
        "all_data = all_data.dropna(subset = ['Agreement Code'])\n",
        "all_data = all_data.fillna(' ')"
      ]
    },
    {
      "cell_type": "code",
      "execution_count": null,
      "metadata": {
        "id": "MinAtk25b_fY"
      },
      "outputs": [],
      "source": [
        "from pydrive.auth import GoogleAuth\n",
        "from pydrive.drive import GoogleDrive\n",
        "from google.colab import auth\n",
        "from oauth2client.client import GoogleCredentials\n",
        "\n",
        "auth.authenticate_user()\n",
        "gauth = GoogleAuth()\n",
        "gauth.credentials = GoogleCredentials.get_application_default()\n",
        "drive = GoogleDrive(gauth)"
      ]
    },
    {
      "cell_type": "code",
      "execution_count": null,
      "metadata": {
        "id": "dMoTrttJDVIg"
      },
      "outputs": [],
      "source": [
        "from google.colab import auth\n",
        "auth.authenticate_user()\n",
        "\n",
        "import gspread\n",
        "from google.auth import default\n",
        "creds, _ = default()\n",
        "\n",
        "gc = gspread.authorize(creds)"
      ]
    },
    {
      "cell_type": "code",
      "execution_count": null,
      "metadata": {
        "id": "UDeg4g5P-jU4"
      },
      "outputs": [],
      "source": [
        "to_Gs = gc.open_by_key('1ewPVHJgoQI2fEOgTG3BHAEmgnSE1bCiDADnxr-xFmG0').worksheet (\"Executed Contract\")\n",
        "to_Gs.clear()\n",
        "to_Gs.update('A1', [all_data.columns.to_list()] + all_data.to_numpy().tolist())"
      ]
    }
  ],
  "metadata": {
    "colab": {
      "collapsed_sections": [],
      "name": "Executed Data.ipynb",
      "provenance": []
    },
    "kernelspec": {
      "display_name": "Python 3",
      "name": "python3"
    },
    "language_info": {
      "name": "python"
    }
  },
  "nbformat": 4,
  "nbformat_minor": 0
}